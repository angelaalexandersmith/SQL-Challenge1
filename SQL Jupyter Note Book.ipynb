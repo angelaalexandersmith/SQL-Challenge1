#Import dependencies 
import pandas as pd

import sqlalchemy
from sqlalchemy import create_engine
from sqlalchemy.orm import sessionmaker
from postgres_settings import postgresql as settings

import numpy as np
import matplotlib.pyplot as plt
# Function to create url and engine
def get_engine(user, passwrd, host, port, db):
    url = f"postgresql+psycopg2://{user}:{passwrd}@{host}:{port}/{db}"
   
    engine = create_engine(url)
    return engine
# Generate engine using settings file
engine = get_engine(settings['user'], settings['passwrd'], settings['host'], settings['port'], settings['db'])
conn = engine.connect()
salary_data = pd.read_sql("SELECT * FROM salaries", conn)
salary_data.head()

salary_data.info()

# Display the histogram of the salaries at PH 

plt.figure(figsize=(10, 10))
plt.hist(salary_data['salary'], bins=10)
plt.title("Salary Histogram - PH - 1980s and 1990s")
plt.ylabel("Number of Employees")
plt.xlabel("Salary Range ($)")
plt.show()

# Gain the salary and the title from joining the tables salaries with employees and titles

title_group = pd.read_sql("""SELECT s.salary, t.title
FROM salaries as s
INNER JOIN employees as e ON
e.emp_no = s.emp_no
INNER JOIN titles as t ON
t.title_id = e.emp_title_id""", conn)

title_group.head()

# Average of the salaries grouped by title

ave_salary_bytitle = title_group.groupby('title').mean()
round(ave_salary_bytitle,2)

# Display Bar Chart of the average salaries of each role within the company

plt.figure(figsize=(10, 10))
plt.bar(ave_salary_bytitle.index, ave_salary_bytitle['salary'],align="center",width=0.8)
plt.title('Average Salary for Title within PH', fontsize = 20)
plt.ylabel("Average Salary ($)")
plt.show()

